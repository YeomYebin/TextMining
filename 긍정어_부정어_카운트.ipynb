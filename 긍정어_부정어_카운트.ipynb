{
 "cells": [
  {
   "cell_type": "code",
   "execution_count": 1,
   "metadata": {},
   "outputs": [],
   "source": [
    "import pandas as pd\n",
    "import numpy as np"
   ]
  },
  {
   "cell_type": "code",
   "execution_count": 2,
   "metadata": {},
   "outputs": [],
   "source": [
    "import konlpy"
   ]
  },
  {
   "cell_type": "code",
   "execution_count": 3,
   "metadata": {},
   "outputs": [],
   "source": [
    "from konlpy.tag import Okt\n",
    "from konlpy.tag import Kkma\n",
    "from konlpy.tag import Twitter"
   ]
  },
  {
   "cell_type": "code",
   "execution_count": 4,
   "metadata": {},
   "outputs": [],
   "source": [
    "from tqdm.notebook import tqdm\n",
    "import os"
   ]
  },
  {
   "cell_type": "code",
   "execution_count": 5,
   "metadata": {},
   "outputs": [],
   "source": [
    "df = pd.read_csv(\"C:/Users/User/Desktop/주제분석_데이터파일/news_data_final.csv\")\n",
    "df['date'] = pd.to_datetime(df['date'])"
   ]
  },
  {
   "cell_type": "code",
   "execution_count": 6,
   "metadata": {},
   "outputs": [
    {
     "data": {
      "text/html": [
       "<div>\n",
       "<style scoped>\n",
       "    .dataframe tbody tr th:only-of-type {\n",
       "        vertical-align: middle;\n",
       "    }\n",
       "\n",
       "    .dataframe tbody tr th {\n",
       "        vertical-align: top;\n",
       "    }\n",
       "\n",
       "    .dataframe thead th {\n",
       "        text-align: right;\n",
       "    }\n",
       "</style>\n",
       "<table border=\"1\" class=\"dataframe\">\n",
       "  <thead>\n",
       "    <tr style=\"text-align: right;\">\n",
       "      <th></th>\n",
       "      <th>Unnamed: 0</th>\n",
       "      <th>date</th>\n",
       "      <th>press</th>\n",
       "      <th>title</th>\n",
       "      <th>content</th>\n",
       "      <th>link</th>\n",
       "    </tr>\n",
       "  </thead>\n",
       "  <tbody>\n",
       "    <tr>\n",
       "      <th>0</th>\n",
       "      <td>0</td>\n",
       "      <td>2021-04-01</td>\n",
       "      <td>국민일보</td>\n",
       "      <td>횡보하더니…비트코인 7300만원 뚫었다</td>\n",
       "      <td>가상화폐 대표주자 비트코인의 가격이 연일 고점을 높이고 있다. 사상 처음으로 7...</td>\n",
       "      <td>http://news.kmib.co.kr/article/view.asp?arcid=...</td>\n",
       "    </tr>\n",
       "    <tr>\n",
       "      <th>1</th>\n",
       "      <td>1</td>\n",
       "      <td>2021-04-01</td>\n",
       "      <td>연합뉴스언론사 선정</td>\n",
       "      <td>비트코인, 고점 계속 높여…7천300만원 돌파</td>\n",
       "      <td>국내 거래소에서 가상화폐 비트코인이 연일 고점을 높이면서 사상 처음으로 7천30...</td>\n",
       "      <td>http://yna.kr/AKR20210401196100002?did=1195m</td>\n",
       "    </tr>\n",
       "    <tr>\n",
       "      <th>2</th>\n",
       "      <td>2</td>\n",
       "      <td>2021-04-01</td>\n",
       "      <td>한스경제</td>\n",
       "      <td>파이코인, '제2의 비트코인' 별칭 갑론을박</td>\n",
       "      <td>◆ 파이코인 지지자들, \"제 2의 비트코인 될 것\" 파이코인은 최근 1500만명...</td>\n",
       "      <td>http://www.sporbiz.co.kr/news/articleView.html...</td>\n",
       "    </tr>\n",
       "    <tr>\n",
       "      <th>3</th>\n",
       "      <td>3</td>\n",
       "      <td>2021-04-01</td>\n",
       "      <td>세계일보</td>\n",
       "      <td>7200만원 돌파한 비트코인… 개인투자자 주식보유액은 240조원 증가</td>\n",
       "      <td>국민참여형 뉴딜 펀드 완판 행진 비트코인 시세가 또다시 최고가를 경신했다. 가상...</td>\n",
       "      <td>http://www.segye.com/content/html/2021/04/01/2...</td>\n",
       "    </tr>\n",
       "    <tr>\n",
       "      <th>4</th>\n",
       "      <td>4</td>\n",
       "      <td>2021-04-01</td>\n",
       "      <td>더게임스데일리</td>\n",
       "      <td>하이브리드스쿼드 '포기하지마 바운시' 스위치 발매</td>\n",
       "      <td>이 작품은 리듬에 맞춰 적절한 타이밍에 음악 비트의 도움을 받아 점프하는 방식으...</td>\n",
       "      <td>http://www.tgdaily.co.kr/news/articleView.html...</td>\n",
       "    </tr>\n",
       "  </tbody>\n",
       "</table>\n",
       "</div>"
      ],
      "text/plain": [
       "   Unnamed: 0       date       press                                   title  \\\n",
       "0           0 2021-04-01        국민일보                   횡보하더니…비트코인 7300만원 뚫었다   \n",
       "1           1 2021-04-01  연합뉴스언론사 선정               비트코인, 고점 계속 높여…7천300만원 돌파   \n",
       "2           2 2021-04-01        한스경제                파이코인, '제2의 비트코인' 별칭 갑론을박   \n",
       "3           3 2021-04-01        세계일보  7200만원 돌파한 비트코인… 개인투자자 주식보유액은 240조원 증가   \n",
       "4           4 2021-04-01     더게임스데일리             하이브리드스쿼드 '포기하지마 바운시' 스위치 발매   \n",
       "\n",
       "                                             content  \\\n",
       "0    가상화폐 대표주자 비트코인의 가격이 연일 고점을 높이고 있다. 사상 처음으로 7...   \n",
       "1    국내 거래소에서 가상화폐 비트코인이 연일 고점을 높이면서 사상 처음으로 7천30...   \n",
       "2    ◆ 파이코인 지지자들, \"제 2의 비트코인 될 것\" 파이코인은 최근 1500만명...   \n",
       "3    국민참여형 뉴딜 펀드 완판 행진 비트코인 시세가 또다시 최고가를 경신했다. 가상...   \n",
       "4    이 작품은 리듬에 맞춰 적절한 타이밍에 음악 비트의 도움을 받아 점프하는 방식으...   \n",
       "\n",
       "                                                link  \n",
       "0  http://news.kmib.co.kr/article/view.asp?arcid=...  \n",
       "1       http://yna.kr/AKR20210401196100002?did=1195m  \n",
       "2  http://www.sporbiz.co.kr/news/articleView.html...  \n",
       "3  http://www.segye.com/content/html/2021/04/01/2...  \n",
       "4  http://www.tgdaily.co.kr/news/articleView.html...  "
      ]
     },
     "execution_count": 6,
     "metadata": {},
     "output_type": "execute_result"
    }
   ],
   "source": [
    "df.head()"
   ]
  },
  {
   "cell_type": "code",
   "execution_count": 7,
   "metadata": {},
   "outputs": [],
   "source": [
    "punct = \"/-'?!.,#$%\\'()*+-/:;<=>@[\\\\]^_`{|}~\" + '\"\"“”’' + '∞θ÷α•à−β∅³π‘₹´°£€\\×™√²—–&'+'↑↓▼▲◆·'\n",
    "punct_mapping = {\"‘\": \"'\", \"₹\": \"e\", \"´\": \"'\", \"°\": \"\", \"€\": \"e\", \"™\": \"tm\", \"√\": \" sqrt \", \"×\": \"x\", \"²\": \"2\", \"—\": \"-\", \"–\": \"-\", \"’\": \"'\", \"_\": \"-\", \"`\": \"'\", '“': '\"', '”': '\"', '“': '\"', \"£\": \"e\", '∞': 'infinity', 'θ': 'theta', '÷': '/', 'α': 'alpha', '•': '.', 'à': 'a', '−': '-', 'β': 'beta', '∅': '', '³': '3', 'π': 'pi', }"
   ]
  },
  {
   "cell_type": "code",
   "execution_count": 8,
   "metadata": {},
   "outputs": [],
   "source": [
    "def clean_punc(text, punct, mapping): \n",
    "    for p in mapping: \n",
    "        text = text.replace(p, \"\") \n",
    "    for p in punct: \n",
    "        text = text.replace(p, \"\")\n",
    "    specials = {'\\u200b': ' ', '…': ' ... ', '\\ufeff': '', 'करना': '', 'है': ''}\n",
    "    for s in specials: \n",
    "        text = text.replace(s, \"\") \n",
    "    return text.strip()"
   ]
  },
  {
   "cell_type": "code",
   "execution_count": 9,
   "metadata": {},
   "outputs": [],
   "source": [
    "f = open(\"C:/Users/User/Desktop/주제분석/neg_pol_word.txt\",'r',encoding = 'utf-8') # 군산대 부정어\n",
    "\n",
    "neg_lines = f.readlines()\n",
    "\n",
    "neg_lines = neg_lines[19:]\n",
    "for i in range(len(neg_lines)) : \n",
    "    neg_lines[i] = neg_lines[i].strip()\n",
    "    \n",
    "f.close()"
   ]
  },
  {
   "cell_type": "code",
   "execution_count": 10,
   "metadata": {},
   "outputs": [],
   "source": [
    "f = open(\"C:/Users/User/Desktop/주제분석/pos_pol_word.txt\",'r',encoding = 'utf-8') # 군산대 긍정어\n",
    "\n",
    "pos_lines = f.readlines()\n",
    "\n",
    "pos_lines = pos_lines[19:]\n",
    "for i in range(len(pos_lines)) : \n",
    "    pos_lines[i] = pos_lines[i].strip()\n",
    "    \n",
    "f.close()"
   ]
  },
  {
   "cell_type": "code",
   "execution_count": 11,
   "metadata": {},
   "outputs": [],
   "source": [
    "f = open(\"C:/Users/User/Desktop/주제분석/긍정어_논문.txt\",'r',encoding = 'utf-8') # 논문 긍정어 파일 경로만 바꾸면 새로운 파일 불러들일 수 있음\n",
    "\n",
    "bit_pos_lines = f.read().split(',')\n",
    "bit_pos = []\n",
    "\n",
    "for word in bit_pos_lines : \n",
    "    case = ''\n",
    "    for item in word : \n",
    "        if item == '\\n': \n",
    "            continue \n",
    "        else : \n",
    "            case += item \n",
    "    bit_pos.append(case.strip())\n",
    "f.close()"
   ]
  },
  {
   "cell_type": "code",
   "execution_count": 12,
   "metadata": {},
   "outputs": [],
   "source": [
    "f = open(\"C:/Users/User/Desktop/주제분석/부정어_논문.txt\",'r',encoding = 'utf-8') # 논문 부정어\n",
    "\n",
    "bit_neg_lines = f.read().split(',')\n",
    "bit_neg = []\n",
    "\n",
    "for word in bit_neg_lines : \n",
    "    case = ''\n",
    "    for item in word : \n",
    "        if item == '\\n': \n",
    "            continue \n",
    "        else : \n",
    "            case += item \n",
    "    bit_neg.append(case.strip())\n",
    "f.close()"
   ]
  },
  {
   "cell_type": "code",
   "execution_count": 13,
   "metadata": {},
   "outputs": [],
   "source": [
    "us_pos = pd.read_csv(\"C:/Users/User/Desktop/주제분석/긍정어_우리.csv\", encoding='utf-8', header=None)"
   ]
  },
  {
   "cell_type": "code",
   "execution_count": 14,
   "metadata": {},
   "outputs": [],
   "source": [
    "us_neg = pd.read_csv(\"C:/Users/User/Desktop/주제분석/부정어_우리.csv\", encoding='utf-8', header=None)"
   ]
  },
  {
   "cell_type": "code",
   "execution_count": 15,
   "metadata": {},
   "outputs": [],
   "source": [
    "our_pos = us_pos.iloc[:,0].tolist()\n",
    "our_neg = us_neg.iloc[:,0].tolist()"
   ]
  },
  {
   "cell_type": "code",
   "execution_count": 16,
   "metadata": {},
   "outputs": [],
   "source": [
    "okt = Okt()"
   ]
  },
  {
   "cell_type": "code",
   "execution_count": 17,
   "metadata": {
    "scrolled": false
   },
   "outputs": [
    {
     "data": {
      "application/vnd.jupyter.widget-view+json": {
       "model_id": "282fde4fda1a4131af623d720253788b",
       "version_major": 2,
       "version_minor": 0
      },
      "text/plain": [
       "HBox(children=(HTML(value=''), FloatProgress(value=0.0, max=357957.0), HTML(value='')))"
      ]
     },
     "metadata": {},
     "output_type": "display_data"
    },
    {
     "name": "stdout",
     "output_type": "stream",
     "text": [
      "\n"
     ]
    }
   ],
   "source": [
    "important_list = [\"Noun\",\"Verb\", \"Adjective\",'Adverb']\n",
    "\n",
    "new_df = df\n",
    "\n",
    "pos = our_pos + bit_pos     # bit_pos는 논문, pos_lines는 군산대 \n",
    "neg = our_neg + bit_neg     # 얘도 마찬가지(그냥 +로 추가해주면 됩니당 다른 사전도)\n",
    "pos_list = []\n",
    "neg_list = []\n",
    "for i in tqdm(range(df.shape[0])): \n",
    "    pos_num = 0\n",
    "    neg_num = 0\n",
    "    for word in okt.pos(clean_punc(df['content'][i], punct, punct_mapping),stem = True) : \n",
    "    \n",
    "        if word[1] in important_list : \n",
    "            if word[0] in pos : \n",
    "                pos_num += 1\n",
    "            elif word[0] in neg : \n",
    "                neg_num += 1\n",
    "    pos_list.append(pos_num)\n",
    "    neg_list.append(neg_num)\n"
   ]
  },
  {
   "cell_type": "code",
   "execution_count": 18,
   "metadata": {},
   "outputs": [],
   "source": [
    "new_df['pos'] = pd.Series(pos_list)\n",
    "new_df['neg'] = pd.Series(neg_list)"
   ]
  },
  {
   "cell_type": "code",
   "execution_count": 19,
   "metadata": {},
   "outputs": [
    {
     "data": {
      "text/plain": [
       "357957"
      ]
     },
     "execution_count": 19,
     "metadata": {},
     "output_type": "execute_result"
    }
   ],
   "source": [
    "len(pos_list)"
   ]
  },
  {
   "cell_type": "code",
   "execution_count": 20,
   "metadata": {},
   "outputs": [],
   "source": [
    "os.chdir(\"C:/Users/User/Desktop/주제분석\")\n",
    "new_df.to_csv(\"긍정부정단어세기(2).csv\", encoding ='utf-8', index = False)"
   ]
  },
  {
   "cell_type": "code",
   "execution_count": null,
   "metadata": {},
   "outputs": [],
   "source": []
  },
  {
   "cell_type": "code",
   "execution_count": null,
   "metadata": {},
   "outputs": [],
   "source": []
  },
  {
   "cell_type": "code",
   "execution_count": null,
   "metadata": {},
   "outputs": [],
   "source": []
  },
  {
   "cell_type": "code",
   "execution_count": null,
   "metadata": {},
   "outputs": [],
   "source": []
  },
  {
   "cell_type": "code",
   "execution_count": null,
   "metadata": {},
   "outputs": [],
   "source": []
  },
  {
   "cell_type": "code",
   "execution_count": null,
   "metadata": {},
   "outputs": [],
   "source": []
  }
 ],
 "metadata": {
  "kernelspec": {
   "display_name": "Python 3",
   "language": "python",
   "name": "python3"
  },
  "language_info": {
   "codemirror_mode": {
    "name": "ipython",
    "version": 3
   },
   "file_extension": ".py",
   "mimetype": "text/x-python",
   "name": "python",
   "nbconvert_exporter": "python",
   "pygments_lexer": "ipython3",
   "version": "3.8.5"
  }
 },
 "nbformat": 4,
 "nbformat_minor": 4
}
